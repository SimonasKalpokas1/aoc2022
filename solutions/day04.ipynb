{
 "cells": [
  {
   "cell_type": "code",
   "execution_count": 25,
   "metadata": {},
   "outputs": [],
   "source": [
    "def part_1(lines):\n",
    "    ans = 0\n",
    "    for line in lines:\n",
    "        elves = [int(num) for elf in line.split(',') for num in elf.split('-')]\n",
    "        if ((elves[0] <= elves[2] <= elves[1] and elves[0] <= elves[3] <= elves[1]) or \n",
    "            (elves[2] <= elves[0] <= elves[3] and elves[2] <= elves[1] <= elves[3])):\n",
    "            ans += 1\n",
    "    return ans\n",
    "        "
   ]
  },
  {
   "cell_type": "code",
   "execution_count": 26,
   "metadata": {},
   "outputs": [],
   "source": [
    "def part_2(lines):\n",
    "    ans = 0\n",
    "    for line in lines:\n",
    "        elves = [int(num) for elf in line.split(',') for num in elf.split('-')]\n",
    "        if ((elves[0] <= elves[2] <= elves[1] or elves[0] <= elves[3] <= elves[1]) or \n",
    "            (elves[2] <= elves[0] <= elves[3] or elves[2] <= elves[1] <= elves[3])):\n",
    "            ans += 1\n",
    "    return ans"
   ]
  },
  {
   "cell_type": "code",
   "execution_count": 27,
   "metadata": {},
   "outputs": [
    {
     "name": "stdout",
     "output_type": "stream",
     "text": [
      "Part 1:  569\n",
      "Part 2:  936\n"
     ]
    }
   ],
   "source": [
    "with open('../inputs/day04.txt') as f:\n",
    "    lines = f.read().splitlines()\n",
    "    print(\"Part 1: \", part_1(lines))\n",
    "    print(\"Part 2: \", part_2(lines))"
   ]
  }
 ],
 "metadata": {
  "kernelspec": {
   "display_name": "Python 3.10.0 64-bit",
   "language": "python",
   "name": "python3"
  },
  "language_info": {
   "codemirror_mode": {
    "name": "ipython",
    "version": 3
   },
   "file_extension": ".py",
   "mimetype": "text/x-python",
   "name": "python",
   "nbconvert_exporter": "python",
   "pygments_lexer": "ipython3",
   "version": "3.10.0"
  },
  "orig_nbformat": 4,
  "vscode": {
   "interpreter": {
    "hash": "26de051ba29f2982a8de78e945f0abaf191376122a1563185a90213a26c5da77"
   }
  }
 },
 "nbformat": 4,
 "nbformat_minor": 2
}
