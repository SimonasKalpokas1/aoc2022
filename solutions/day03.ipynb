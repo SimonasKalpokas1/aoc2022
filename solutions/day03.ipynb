{
 "cells": [
  {
   "cell_type": "code",
   "execution_count": 30,
   "metadata": {},
   "outputs": [],
   "source": [
    "def part_1(lines):\n",
    "    priorities = 0\n",
    "    for line in lines:   \n",
    "        length = len(line)     \n",
    "        compartments = [set(line[:length//2]), set(line[length//2:])]\n",
    "        for intersecting in compartments[0].intersection(compartments[1]):\n",
    "            ascii = ord(intersecting)\n",
    "            if ascii >= ord('a'):\n",
    "                priorities += ascii - ord('a') + 1\n",
    "            else:\n",
    "                priorities += ascii - ord('A') + 27\n",
    "    return priorities\n",
    "        "
   ]
  },
  {
   "cell_type": "code",
   "execution_count": 39,
   "metadata": {},
   "outputs": [],
   "source": [
    "from functools import reduce"
   ]
  },
  {
   "cell_type": "code",
   "execution_count": 48,
   "metadata": {},
   "outputs": [],
   "source": [
    "def part_2(lines):\n",
    "    priorities = 0\n",
    "    for i in range(0, len(lines), 3):\n",
    "        (badge, ) = reduce(lambda x, y: x.intersection(y), map(set, lines[i:i+3]))\n",
    "        ascii = ord(badge)\n",
    "        if ascii >= ord('a'):\n",
    "            priorities += ascii - ord('a') + 1\n",
    "        else:\n",
    "            priorities += ascii - ord('A') + 27\n",
    "    return priorities"
   ]
  },
  {
   "cell_type": "code",
   "execution_count": 51,
   "metadata": {},
   "outputs": [
    {
     "name": "stdout",
     "output_type": "stream",
     "text": [
      "Part 1: 7903\n",
      "Part 2: 2548\n"
     ]
    }
   ],
   "source": [
    "with open('../inputs/day03.txt') as f:\n",
    "    lines = f.read().splitlines()\n",
    "    print(\"Part 1:\", part_1(lines))\n",
    "    print(\"Part 2:\", part_2(lines))"
   ]
  }
 ],
 "metadata": {
  "kernelspec": {
   "display_name": "Python 3.10.0 64-bit",
   "language": "python",
   "name": "python3"
  },
  "language_info": {
   "codemirror_mode": {
    "name": "ipython",
    "version": 3
   },
   "file_extension": ".py",
   "mimetype": "text/x-python",
   "name": "python",
   "nbconvert_exporter": "python",
   "pygments_lexer": "ipython3",
   "version": "3.10.0"
  },
  "orig_nbformat": 4,
  "vscode": {
   "interpreter": {
    "hash": "26de051ba29f2982a8de78e945f0abaf191376122a1563185a90213a26c5da77"
   }
  }
 },
 "nbformat": 4,
 "nbformat_minor": 2
}
