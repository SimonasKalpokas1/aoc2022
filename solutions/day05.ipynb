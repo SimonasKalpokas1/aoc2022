{
 "cells": [
  {
   "cell_type": "code",
   "execution_count": 23,
   "metadata": {},
   "outputs": [],
   "source": [
    "def parse_data(data):\n",
    "    grid = []\n",
    "    commands = []\n",
    "    for ind, line in enumerate(data):\n",
    "        if line.startswith(' 1'):\n",
    "            break\n",
    "        grid.append([])\n",
    "        for i in range(0, len(line), 4):\n",
    "            if line[i+1] != ' ':\n",
    "                grid[-1].append(line[i+1])\n",
    "            else:\n",
    "                grid[-1].append(0)\n",
    "    stacks = [[] for _ in grid[0]]\n",
    "    for row in reversed(grid):\n",
    "        for i, col in enumerate(row):\n",
    "            if col != 0:\n",
    "                stacks[i].append(col)\n",
    "\n",
    "    for line in data[ind+2:]:\n",
    "        commands.append(line.split(' '))\n",
    "    return (stacks, commands)"
   ]
  },
  {
   "cell_type": "code",
   "execution_count": 24,
   "metadata": {},
   "outputs": [],
   "source": [
    "def part_1(data):\n",
    "    (stacks, commands) = parse_data(data)\n",
    "    for command in commands:\n",
    "        for _ in range(int(command[1])):\n",
    "            stacks[int(command[5])-1].append(stacks[int(command[3])-1].pop())\n",
    "    return ''.join([stack[-1] for stack in stacks])\n",
    "    "
   ]
  },
  {
   "cell_type": "code",
   "execution_count": 25,
   "metadata": {},
   "outputs": [],
   "source": [
    "def part_2(data):\n",
    "    (stacks, commands) = parse_data(data)\n",
    "    for command in commands:\n",
    "        stacks[int(command[5])-1] += stacks[int(command[3])-1][-int(command[1]):]\n",
    "        stacks[int(command[3])-1] = stacks[int(command[3])-1][:-int(command[1])]\n",
    "    return ''.join([stack[-1] for stack in stacks])"
   ]
  },
  {
   "cell_type": "code",
   "execution_count": 27,
   "metadata": {},
   "outputs": [
    {
     "name": "stdout",
     "output_type": "stream",
     "text": [
      "Part 1: ZWHVFWQWW\n",
      "Part 2: HZFZCCWWV\n"
     ]
    }
   ],
   "source": [
    "with open('../inputs/day05.txt') as f:\n",
    "    data = f.read().splitlines()\n",
    "    print(\"Part 1:\", part_1(data))\n",
    "    print(\"Part 2:\", part_2(data))"
   ]
  }
 ],
 "metadata": {
  "kernelspec": {
   "display_name": "Python 3.10.0 64-bit",
   "language": "python",
   "name": "python3"
  },
  "language_info": {
   "codemirror_mode": {
    "name": "ipython",
    "version": 3
   },
   "file_extension": ".py",
   "mimetype": "text/x-python",
   "name": "python",
   "nbconvert_exporter": "python",
   "pygments_lexer": "ipython3",
   "version": "3.10.0"
  },
  "orig_nbformat": 4,
  "vscode": {
   "interpreter": {
    "hash": "26de051ba29f2982a8de78e945f0abaf191376122a1563185a90213a26c5da77"
   }
  }
 },
 "nbformat": 4,
 "nbformat_minor": 2
}
