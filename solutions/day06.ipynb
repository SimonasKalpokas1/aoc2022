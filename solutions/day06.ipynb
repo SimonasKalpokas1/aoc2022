{
 "cells": [
  {
   "cell_type": "code",
   "execution_count": 3,
   "metadata": {},
   "outputs": [],
   "source": [
    "def part_1(data):\n",
    "    current = []\n",
    "    for i, char in enumerate(data):\n",
    "        if char in current:\n",
    "            current = current[current.index(char) + 1:] + [char]\n",
    "        else:\n",
    "            current.append(char)\n",
    "            if len(current) == 4:\n",
    "                return i + 1\n"
   ]
  },
  {
   "cell_type": "code",
   "execution_count": 4,
   "metadata": {},
   "outputs": [],
   "source": [
    "def part_2(data):\n",
    "    current = []\n",
    "    for i, char in enumerate(data):\n",
    "        if char in current:\n",
    "            current = current[current.index(char) + 1:]\n",
    "        current.append(char)\n",
    "        if len(current) == 14:\n",
    "            return i + 1"
   ]
  },
  {
   "cell_type": "code",
   "execution_count": 5,
   "metadata": {},
   "outputs": [
    {
     "name": "stdout",
     "output_type": "stream",
     "text": [
      "Part 1: 1707\n",
      "Part 2: 3697\n"
     ]
    }
   ],
   "source": [
    "with open(\"../inputs/day06.txt\") as f:\n",
    "    data = f.read()\n",
    "    print(\"Part 1:\", part_1(data))\n",
    "    print(\"Part 2:\", part_2(data))"
   ]
  },
  {
   "cell_type": "code",
   "execution_count": null,
   "metadata": {},
   "outputs": [],
   "source": []
  }
 ],
 "metadata": {
  "kernelspec": {
   "display_name": "Python 3.10.0 64-bit",
   "language": "python",
   "name": "python3"
  },
  "language_info": {
   "codemirror_mode": {
    "name": "ipython",
    "version": 3
   },
   "file_extension": ".py",
   "mimetype": "text/x-python",
   "name": "python",
   "nbconvert_exporter": "python",
   "pygments_lexer": "ipython3",
   "version": "3.10.0"
  },
  "orig_nbformat": 4,
  "vscode": {
   "interpreter": {
    "hash": "26de051ba29f2982a8de78e945f0abaf191376122a1563185a90213a26c5da77"
   }
  }
 },
 "nbformat": 4,
 "nbformat_minor": 2
}
